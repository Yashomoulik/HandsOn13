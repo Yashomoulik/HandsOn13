{
  "nbformat": 4,
  "nbformat_minor": 0,
  "metadata": {
    "colab": {
      "provenance": [],
      "authorship_tag": "ABX9TyMIjanw2xjuHbDmOuVMCG3M",
      "include_colab_link": true
    },
    "kernelspec": {
      "name": "python3",
      "display_name": "Python 3"
    },
    "language_info": {
      "name": "python"
    }
  },
  "cells": [
    {
      "cell_type": "markdown",
      "metadata": {
        "id": "view-in-github",
        "colab_type": "text"
      },
      "source": [
        "<a href=\"https://colab.research.google.com/github/Yashomoulik/HandsOn13/blob/main/HandsOn13.ipynb\" target=\"_parent\"><img src=\"https://colab.research.google.com/assets/colab-badge.svg\" alt=\"Open In Colab\"/></a>"
      ]
    },
    {
      "cell_type": "markdown",
      "source": [
        "1. Topological sort"
      ],
      "metadata": {
        "id": "i0d-qFWFl9Eu"
      }
    },
    {
      "cell_type": "code",
      "execution_count": 4,
      "metadata": {
        "colab": {
          "base_uri": "https://localhost:8080/"
        },
        "id": "9rNG3x8Kl8GJ",
        "outputId": "fa4f2e02-3d2e-4678-d9dd-bd90be1cf7d9"
      },
      "outputs": [
        {
          "output_type": "stream",
          "name": "stdout",
          "text": [
            "Topological Sort: ['watch', 'boots', 'shirt', 'tie', 'skirt', 'pants', 'shoes', 'belt', 'jacket']\n"
          ]
        }
      ],
      "source": [
        "from collections import defaultdict\n",
        "\n",
        "class DirectedGraph:\n",
        "    def __init__(self, vertex_count):\n",
        "        self.adjacency_list = defaultdict(list)\n",
        "        self.num_vertices = vertex_count\n",
        "\n",
        "    def insert_edge(self, start, end):\n",
        "        self.adjacency_list[start].append(end)\n",
        "\n",
        "    def topological_sort_helper(self, node, visited_nodes, sorted_nodes):\n",
        "        visited_nodes[node] = True\n",
        "        for neighbor in self.adjacency_list[node]:\n",
        "            if not visited_nodes[neighbor]:\n",
        "                self.topological_sort_helper(neighbor, visited_nodes, sorted_nodes)\n",
        "        sorted_nodes.insert(0, node)\n",
        "\n",
        "    def compute_topological_sort(self, vertices):\n",
        "        visited_nodes = {vertex: False for vertex in vertices}\n",
        "        sorted_nodes = []\n",
        "        for vertex in vertices:\n",
        "            if not visited_nodes[vertex]:\n",
        "                self.topological_sort_helper(vertex, visited_nodes, sorted_nodes)\n",
        "        return sorted_nodes\n",
        "\n",
        "# Define vertices and edges for the example\n",
        "vertices = [\"skirt\", \"pants\", \"belt\", \"shirt\", \"tie\", \"jacket\", \"boots\", \"shoes\", \"watch\"]\n",
        "\n",
        "# List of directed edges\n",
        "connections = [\n",
        "    (\"skirt\", \"pants\"),\n",
        "    (\"pants\", \"belt\"),\n",
        "    (\"pants\", \"shoes\"),\n",
        "    (\"shirt\", \"belt\"),\n",
        "    (\"shirt\", \"tie\"),\n",
        "    (\"tie\", \"jacket\"),\n",
        "    (\"belt\", \"jacket\"),\n",
        "    (\"boots\", \"shoes\")\n",
        "]\n",
        "\n",
        "# Create graph and add edges\n",
        "graph = DirectedGraph(len(vertices))\n",
        "for start, end in connections:\n",
        "    graph.insert_edge(start, end)\n",
        "\n",
        "# Perform topological sort\n",
        "print(\"Topological Sort:\", graph.compute_topological_sort(vertices))"
      ]
    },
    {
      "cell_type": "markdown",
      "source": [
        "2. Depth-First Search\n"
      ],
      "metadata": {
        "id": "j4o0yyvLmy40"
      }
    },
    {
      "cell_type": "code",
      "source": [
        "from collections import defaultdict\n",
        "\n",
        "def perform_dfs(edges, start_point):\n",
        "    adjacency_map = defaultdict(list)\n",
        "    for origin, destination in edges:\n",
        "        adjacency_map[origin].append(destination)\n",
        "\n",
        "    seen = set()\n",
        "\n",
        "    def traverse(node):\n",
        "        if node not in seen:\n",
        "            print(node, end=' ')\n",
        "            seen.add(node)\n",
        "            for adjacent in adjacency_map[node]:\n",
        "                traverse(adjacent)\n",
        "\n",
        "    traverse(start_point)\n",
        "    print()\n",
        "\n",
        "# Define edges for DFS example\n",
        "example_edges = [\n",
        "    (\"u\", \"v\"),\n",
        "    (\"u\", \"x\"),\n",
        "    (\"v\", \"y\"),\n",
        "    (\"y\", \"x\"),\n",
        "    (\"x\", \"v\"),\n",
        "    (\"w\", \"z\"),\n",
        "    (\"w\", \"y\"),\n",
        "    (\"z\", \"z\")  # self-loop\n",
        "]\n",
        "\n",
        "print(\"Depth-First Search from 'u':\")\n",
        "perform_dfs(example_edges, 'u')"
      ],
      "metadata": {
        "colab": {
          "base_uri": "https://localhost:8080/"
        },
        "id": "VjlMyy_km133",
        "outputId": "8e0d34a2-ca8a-423d-afd8-c700521c9fff"
      },
      "execution_count": 5,
      "outputs": [
        {
          "output_type": "stream",
          "name": "stdout",
          "text": [
            "Depth-First Search from 'u':\n",
            "u v y x \n"
          ]
        }
      ]
    },
    {
      "cell_type": "markdown",
      "source": [
        "3. Kruskal algorithm"
      ],
      "metadata": {
        "id": "xngG7ioJm8BT"
      }
    },
    {
      "cell_type": "code",
      "source": [
        "class GraphEdge:\n",
        "    def __init__(self, weight, start, end):\n",
        "        self.weight = weight\n",
        "        self.start = start\n",
        "        self.end = end\n",
        "\n",
        "class DisjointSetUnion:\n",
        "    def __init__(self, vertices):\n",
        "        self.parent = {vertex: vertex for vertex in vertices}\n",
        "        self.rank = {vertex: 0 for vertex in vertices}\n",
        "\n",
        "    def find(self, vertex):\n",
        "        if self.parent[vertex] != vertex:\n",
        "            self.parent[vertex] = self.find(self.parent[vertex])\n",
        "        return self.parent[vertex]\n",
        "\n",
        "    def union(self, vertex1, vertex2):\n",
        "        root1 = self.find(vertex1)\n",
        "        root2 = self.find(vertex2)\n",
        "        if root1 != root2:\n",
        "            if self.rank[root1] > self.rank[root2]:\n",
        "                self.parent[root2] = root1\n",
        "            elif self.rank[root1] < self.rank[root2]:\n",
        "                self.parent[root1] = root2\n",
        "            else:\n",
        "                self.parent[root2] = root1\n",
        "                self.rank[root1] += 1\n",
        "\n",
        "def kruskal_mst(vertices, edges):\n",
        "    edges = sorted(edges, key=lambda edge: edge.weight)\n",
        "    dsu = DisjointSetUnion(vertices)\n",
        "    mst_result = []\n",
        "\n",
        "    for edge in edges:\n",
        "        if dsu.find(edge.start) != dsu.find(edge.end):\n",
        "            dsu.union(edge.start, edge.end)\n",
        "            mst_result.append(edge)\n",
        "\n",
        "    return mst_result\n",
        "\n",
        "# Define nodes and edges for Kruskal's example\n",
        "nodes_kruskal = {\"a\", \"b\", \"c\", \"d\", \"e\", \"f\", \"g\", \"h\", \"i\"}\n",
        "edges_kruskal = [\n",
        "    GraphEdge(4, \"a\", \"b\"),\n",
        "    GraphEdge(8, \"a\", \"h\"),\n",
        "    GraphEdge(8, \"b\", \"c\"),\n",
        "    GraphEdge(11, \"b\", \"h\"),\n",
        "    GraphEdge(7, \"c\", \"d\"),\n",
        "    GraphEdge(4, \"c\", \"f\"),\n",
        "    GraphEdge(2, \"c\", \"i\"),\n",
        "    GraphEdge(6, \"c\", \"g\"),\n",
        "    GraphEdge(9, \"d\", \"e\"),\n",
        "    GraphEdge(14, \"d\", \"f\"),\n",
        "    GraphEdge(10, \"e\", \"f\"),\n",
        "    GraphEdge(2, \"f\", \"g\"),\n",
        "    GraphEdge(1, \"g\", \"h\"),\n",
        "    GraphEdge(7, \"h\", \"i\")\n",
        "]\n",
        "\n",
        "# Perform Kruskal's MST\n",
        "mst = kruskal_mst(nodes_kruskal, edges_kruskal)\n",
        "print(\"Kruskal's MST:\")\n",
        "for edge in mst:\n",
        "    print(f\"Edge {edge.start}-{edge.end} with weight {edge.weight}\")"
      ],
      "metadata": {
        "colab": {
          "base_uri": "https://localhost:8080/"
        },
        "id": "cDmmfZRYm_Yi",
        "outputId": "976209c2-abf4-4650-a9f4-7e8a44322869"
      },
      "execution_count": 6,
      "outputs": [
        {
          "output_type": "stream",
          "name": "stdout",
          "text": [
            "Kruskal's MST:\n",
            "Edge g-h with weight 1\n",
            "Edge c-i with weight 2\n",
            "Edge f-g with weight 2\n",
            "Edge a-b with weight 4\n",
            "Edge c-f with weight 4\n",
            "Edge c-d with weight 7\n",
            "Edge a-h with weight 8\n",
            "Edge d-e with weight 9\n"
          ]
        }
      ]
    }
  ]
}